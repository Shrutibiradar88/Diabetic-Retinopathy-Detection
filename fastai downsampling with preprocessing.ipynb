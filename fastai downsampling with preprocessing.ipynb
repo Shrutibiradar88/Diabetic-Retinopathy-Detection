{
 "cells": [
  {
   "cell_type": "code",
   "execution_count": 1,
   "metadata": {},
   "outputs": [
    {
     "data": {
      "text/html": [
       "<div>\n",
       "<style scoped>\n",
       "    .dataframe tbody tr th:only-of-type {\n",
       "        vertical-align: middle;\n",
       "    }\n",
       "\n",
       "    .dataframe tbody tr th {\n",
       "        vertical-align: top;\n",
       "    }\n",
       "\n",
       "    .dataframe thead th {\n",
       "        text-align: right;\n",
       "    }\n",
       "</style>\n",
       "<table border=\"1\" class=\"dataframe\">\n",
       "  <thead>\n",
       "    <tr style=\"text-align: right;\">\n",
       "      <th></th>\n",
       "      <th>image</th>\n",
       "      <th>level</th>\n",
       "    </tr>\n",
       "  </thead>\n",
       "  <tbody>\n",
       "    <tr>\n",
       "      <td>0</td>\n",
       "      <td>10_left</td>\n",
       "      <td>0</td>\n",
       "    </tr>\n",
       "    <tr>\n",
       "      <td>1</td>\n",
       "      <td>10_right</td>\n",
       "      <td>0</td>\n",
       "    </tr>\n",
       "    <tr>\n",
       "      <td>2</td>\n",
       "      <td>13_left</td>\n",
       "      <td>0</td>\n",
       "    </tr>\n",
       "    <tr>\n",
       "      <td>3</td>\n",
       "      <td>13_right</td>\n",
       "      <td>0</td>\n",
       "    </tr>\n",
       "    <tr>\n",
       "      <td>4</td>\n",
       "      <td>15_left</td>\n",
       "      <td>1</td>\n",
       "    </tr>\n",
       "  </tbody>\n",
       "</table>\n",
       "</div>"
      ],
      "text/plain": [
       "      image  level\n",
       "0   10_left      0\n",
       "1  10_right      0\n",
       "2   13_left      0\n",
       "3  13_right      0\n",
       "4   15_left      1"
      ]
     },
     "execution_count": 1,
     "metadata": {},
     "output_type": "execute_result"
    }
   ],
   "source": [
    "import pandas as pd\n",
    "%matplotlib inline\n",
    "\n",
    "trainLabels = pd.read_csv(\"trainLabels.csv\")\n",
    "trainLabels.head()"
   ]
  },
  {
   "cell_type": "code",
   "execution_count": 2,
   "metadata": {},
   "outputs": [
    {
     "data": {
      "text/plain": [
       "<matplotlib.axes._subplots.AxesSubplot at 0x7f7fe317f310>"
      ]
     },
     "execution_count": 2,
     "metadata": {},
     "output_type": "execute_result"
    },
    {
     "data": {
      "image/png": "[encoded data removed]",
      "text/plain": [
       "<Figure size 720x360 with 1 Axes>"
      ]
     },
     "metadata": {
      "needs_background": "light"
     },
     "output_type": "display_data"
    }
   ],
   "source": [
    "trainLabels['level'].hist(figsize = (10, 5))"
   ]
  },
  {
   "cell_type": "code",
   "execution_count": 3,
   "metadata": {},
   "outputs": [],
   "source": [
    "import numpy as np # linear algebra\n",
    "import pandas as pd # data processing, CSV file I/O (e.g. pd.read_csv)\n",
    "import os\n",
    "import random\n",
    "import sys\n",
    "import cv2\n",
    "import matplotlib.pyplot as plt"
   ]
  },
  {
   "cell_type": "code",
   "execution_count": 4,
   "metadata": {},
   "outputs": [
    {
     "data": {
      "text/html": [
       "<div>\n",
       "<style scoped>\n",
       "    .dataframe tbody tr th:only-of-type {\n",
       "        vertical-align: middle;\n",
       "    }\n",
       "\n",
       "    .dataframe tbody tr th {\n",
       "        vertical-align: top;\n",
       "    }\n",
       "\n",
       "    .dataframe thead th {\n",
       "        text-align: right;\n",
       "    }\n",
       "</style>\n",
       "<table border=\"1\" class=\"dataframe\">\n",
       "  <thead>\n",
       "    <tr style=\"text-align: right;\">\n",
       "      <th></th>\n",
       "      <th>level</th>\n",
       "      <th>path</th>\n",
       "    </tr>\n",
       "  </thead>\n",
       "  <tbody>\n",
       "    <tr>\n",
       "      <td>0</td>\n",
       "      <td>0</td>\n",
       "      <td>train/29147_right.jpeg</td>\n",
       "    </tr>\n",
       "    <tr>\n",
       "      <td>1</td>\n",
       "      <td>2</td>\n",
       "      <td>train/20777_right.jpeg</td>\n",
       "    </tr>\n",
       "    <tr>\n",
       "      <td>2</td>\n",
       "      <td>0</td>\n",
       "      <td>train/6193_right.jpeg</td>\n",
       "    </tr>\n",
       "    <tr>\n",
       "      <td>3</td>\n",
       "      <td>0</td>\n",
       "      <td>train/29673_left.jpeg</td>\n",
       "    </tr>\n",
       "    <tr>\n",
       "      <td>4</td>\n",
       "      <td>0</td>\n",
       "      <td>train/38758_right.jpeg</td>\n",
       "    </tr>\n",
       "    <tr>\n",
       "      <td>5</td>\n",
       "      <td>0</td>\n",
       "      <td>train/19289_left.jpeg</td>\n",
       "    </tr>\n",
       "    <tr>\n",
       "      <td>6</td>\n",
       "      <td>0</td>\n",
       "      <td>train/10163_right.jpeg</td>\n",
       "    </tr>\n",
       "    <tr>\n",
       "      <td>7</td>\n",
       "      <td>0</td>\n",
       "      <td>train/32998_left.jpeg</td>\n",
       "    </tr>\n",
       "    <tr>\n",
       "      <td>8</td>\n",
       "      <td>0</td>\n",
       "      <td>train/28865_right.jpeg</td>\n",
       "    </tr>\n",
       "    <tr>\n",
       "      <td>9</td>\n",
       "      <td>0</td>\n",
       "      <td>train/26293_right.jpeg</td>\n",
       "    </tr>\n",
       "  </tbody>\n",
       "</table>\n",
       "</div>"
      ],
      "text/plain": [
       "   level                    path\n",
       "0      0  train/29147_right.jpeg\n",
       "1      2  train/20777_right.jpeg\n",
       "2      0   train/6193_right.jpeg\n",
       "3      0   train/29673_left.jpeg\n",
       "4      0  train/38758_right.jpeg\n",
       "5      0   train/19289_left.jpeg\n",
       "6      0  train/10163_right.jpeg\n",
       "7      0   train/32998_left.jpeg\n",
       "8      0  train/28865_right.jpeg\n",
       "9      0  train/26293_right.jpeg"
      ]
     },
     "execution_count": 4,
     "metadata": {},
     "output_type": "execute_result"
    }
   ],
   "source": [
    "base_image_dir = os.path.join('train/')\n",
    "df = pd.read_csv(os.path.join('trainLabels.csv'))\n",
    "df['path'] = df['image'].map(lambda x: os.path.join(base_image_dir,'{}.jpeg'.format(x)))\n",
    "df['exists'] = df['path'].map(os.path.exists) #Most of the files do not exist because this is a sample of the original dataset\n",
    "df = df[df['exists']]\n",
    "df = df.drop(columns=['image','exists'])\n",
    "df = df.sample(frac=1).reset_index(drop=True) #shuffle dataframe\n",
    "df.head(10)"
   ]
  },
  {
   "cell_type": "code",
   "execution_count": 11,
   "metadata": {},
   "outputs": [
    {
     "name": "stdout",
     "output_type": "stream",
     "text": [
      "1000\n",
      "2000\n",
      "3000\n",
      "4000\n"
     ]
    }
   ],
   "source": [
    "def crop_image_to_aspect(image):\n",
    "    # load image\n",
    "    tar=1.2\n",
    "    npim = image2np(image)*255 # convert to numpy array in range 0-255\n",
    "    npim = npim.astype(np.uint8)\n",
    "    image_bw = cv2.cvtColor(npim, cv2.COLOR_RGB2GRAY)\n",
    "    \n",
    "    #cv2.imread(image)\n",
    "    # compute aspect ratio\n",
    "    h, w = image_bw.shape[0], image_bw.shape[1]\n",
    "    sar = h / w if h > w else w / h\n",
    "    if sar < tar:\n",
    "        return pil2tensor(image, dtype=np.float32)/255\n",
    "    else:\n",
    "        k = 0.5 * (1.0 - (tar / sar))\n",
    "        if h > w:\n",
    "            lb = int(k * h)\n",
    "            ub = h - lb\n",
    "            cropped = image[:,lb:ub, :]\n",
    "            cropped=pil2tensor(cropped, dtype=np.float32)/255\n",
    "        else:\n",
    "            lb = int(k * w)\n",
    "            ub = w - lb\n",
    "            cropped = image[:,:, lb:ub]\n",
    "            cropped=pil2tensor(cropped, dtype=np.float32)/255\n",
    "        return cropped\n",
    "\n",
    "\n",
    "\n",
    "vs = []\n",
    "index=1\n",
    "for i in random.sample(range(1,35000),4000):\n",
    "    image = cv2.imread(df[\"path\"][i])\n",
    "    image_hsv = cv2.cvtColor(image, cv2.COLOR_BGR2HSV)\n",
    "    h, s, v = cv2.split(image_hsv)\n",
    "    vs.append(np.mean(v))\n",
    "    if index%1000==0:\n",
    "        print(index)\n",
    "    index+=1\n",
    "global_mean_v = int(np.mean(np.array(vs)))\n",
    "\n"
   ]
  },
  {
   "cell_type": "code",
   "execution_count": 13,
   "metadata": {},
   "outputs": [],
   "source": [
    "def brighten_image_hsv(image):\n",
    "    global_mean_v=82\n",
    "    npim = image2np(image)*255 # convert to numpy array in range 0-255\n",
    "    npim = npim.astype(np.uint8) # convert to int\n",
    "    image_hsv = cv2.cvtColor(npim, cv2.COLOR_RGB2HSV)\n",
    "    h, s, v = cv2.split(image_hsv)\n",
    "    mean_v = int(np.mean(v))\n",
    "    v = v - mean_v + global_mean_v\n",
    "    image_hsv = cv2.merge((h, s, v))\n",
    "    image_bright = cv2.cvtColor(image_hsv, cv2.COLOR_HSV2RGB)\n",
    "    \n",
    "    return  pil2tensor(image_bright, dtype=np.float32)/255\n"
   ]
  },
  {
   "cell_type": "code",
   "execution_count": 14,
   "metadata": {},
   "outputs": [],
   "source": [
    "from fastai import *\n",
    "from fastai.vision import *"
   ]
  },
  {
   "cell_type": "code",
   "execution_count": 16,
   "metadata": {},
   "outputs": [
    {
     "name": "stdout",
     "output_type": "stream",
     "text": [
      "Make sure cuda is installed: True\n",
      "Make sure cudnn is enabled: True\n"
     ]
    }
   ],
   "source": [
    "print('Make sure cuda is installed:', torch.cuda.is_available())\n",
    "print('Make sure cudnn is enabled:', torch.backends.cudnn.enabled)\n",
    "import warnings\n",
    "warnings.filterwarnings('ignore')"
   ]
  },
  {
   "cell_type": "code",
   "execution_count": 17,
   "metadata": {},
   "outputs": [],
   "source": [
    "use_cuda=True"
   ]
  },
  {
   "cell_type": "code",
   "execution_count": 18,
   "metadata": {},
   "outputs": [],
   "source": [
    "custom_trans = TfmPixel(brighten_image_hsv) # wrap in TfmPixel to create a valid transform\n",
    "#tfms = [[custom_trans()],[]] # set your custom transform for training dataset only\n",
    "\n",
    "tfms = get_transforms(xtra_tfms=[custom_trans()],do_flip=False,flip_vert=False,max_rotate=360,max_warp=0,max_zoom=1.1,max_lighting=0.5,p_lighting=0.5)\n"
   ]
  },
  {
   "cell_type": "code",
   "execution_count": 19,
   "metadata": {},
   "outputs": [],
   "source": [
    "df0=df.loc[df[\"level\"]==0].sample(n=700)\n",
    "df1=df.loc[df[\"level\"]==1].sample(n=700)\n",
    "df2=df.loc[df[\"level\"]==2].sample(n=700)\n",
    "df3=df.loc[df[\"level\"]==3].sample(n=700)\n",
    "df4=df.loc[df[\"level\"]==4].sample(n=700)\n",
    "df1=df1.append([df0,df2,df3]).reset_index(drop=True)"
   ]
  },
  {
   "cell_type": "code",
   "execution_count": 21,
   "metadata": {},
   "outputs": [],
   "source": [
    "from sklearn.model_selection import train_test_split\n",
    "train_df, val_df = train_test_split(df1,test_size=0.2)"
   ]
  },
  {
   "cell_type": "code",
   "execution_count": 22,
   "metadata": {},
   "outputs": [],
   "source": [
    "bs = 50 #smaller batch size is better for training, but may take longer\n",
    "sz=256\n",
    "\n",
    "src = (ImageList.from_df(df=df1,path='./',cols='path') #get dataset from dataset\n",
    "        .split_by_idx(range(len(train_df)-1,len(df1))) #Splitting the dataset\n",
    "        .label_from_df(cols='level') #obtain labels from the level column\n",
    "      )\n",
    "data= (src.transform(tfms,size=sz) #Data augmentation\n",
    "        .databunch(bs=bs,num_workers=0) #DataBunch\n",
    "        .normalize(imagenet_stats) #Normalize\n",
    "       )"
   ]
  },
  {
   "cell_type": "code",
   "execution_count": 23,
   "metadata": {},
   "outputs": [],
   "source": [
    "from sklearn.metrics import cohen_kappa_score\n",
    "def quadratic_kappa(y_hat, y):\n",
    "    return torch.tensor(cohen_kappa_score(torch.argmax(y_hat,1), y, weights='quadratic'),device='cuda:0')"
   ]
  },
  {
   "cell_type": "code",
   "execution_count": 24,
   "metadata": {},
   "outputs": [],
   "source": [
    "import torchvision\n",
    "\n",
    "learn = create_cnn(data, models.resnet50, metrics = [accuracy,quadratic_kappa])\n"
   ]
  },
  {
   "cell_type": "code",
   "execution_count": 163,
   "metadata": {},
   "outputs": [
    {
     "data": {
      "image/png": "[encoded data removed]",
      "text/plain": [
       "<Figure size 432x288 with 1 Axes>"
      ]
     },
     "metadata": {
      "needs_background": "light"
     },
     "output_type": "display_data"
    }
   ],
   "source": [
    "learn.lr_find()\n",
    "learn.recorder.plot()"
   ]
  },
  {
   "cell_type": "code",
   "execution_count": 25,
   "metadata": {},
   "outputs": [
    {
     "data": {
      "text/html": [
       "<table border=\"1\" class=\"dataframe\">\n",
       "  <thead>\n",
       "    <tr style=\"text-align: left;\">\n",
       "      <th>epoch</th>\n",
       "      <th>train_loss</th>\n",
       "      <th>valid_loss</th>\n",
       "      <th>accuracy</th>\n",
       "      <th>quadratic_kappa</th>\n",
       "      <th>time</th>\n",
       "    </tr>\n",
       "  </thead>\n",
       "  <tbody>\n",
       "    <tr>\n",
       "      <td>0</td>\n",
       "      <td>2.326810</td>\n",
       "      <td>3.153063</td>\n",
       "      <td>0.069519</td>\n",
       "      <td>0.000000</td>\n",
       "      <td>14:56</td>\n",
       "    </tr>\n",
       "    <tr>\n",
       "      <td>1</td>\n",
       "      <td>1.785492</td>\n",
       "      <td>1.919574</td>\n",
       "      <td>0.262032</td>\n",
       "      <td>0.000000</td>\n",
       "      <td>13:38</td>\n",
       "    </tr>\n",
       "    <tr>\n",
       "      <td>2</td>\n",
       "      <td>1.560293</td>\n",
       "      <td>2.054420</td>\n",
       "      <td>0.281640</td>\n",
       "      <td>0.000000</td>\n",
       "      <td>13:34</td>\n",
       "    </tr>\n",
       "    <tr>\n",
       "      <td>3</td>\n",
       "      <td>1.377849</td>\n",
       "      <td>1.663568</td>\n",
       "      <td>0.335116</td>\n",
       "      <td>0.000000</td>\n",
       "      <td>13:38</td>\n",
       "    </tr>\n",
       "  </tbody>\n",
       "</table>"
      ],
      "text/plain": [
       "<IPython.core.display.HTML object>"
      ]
     },
     "metadata": {},
     "output_type": "display_data"
    }
   ],
   "source": [
    "use_cuda=True\n",
    "learn.fit_one_cycle(4,max_lr=1e-02)"
   ]
  },
  {
   "cell_type": "code",
   "execution_count": 26,
   "metadata": {},
   "outputs": [
    {
     "data": {
      "text/plain": [
       "True"
      ]
     },
     "execution_count": 26,
     "metadata": {},
     "output_type": "execute_result"
    }
   ],
   "source": [
    "interp = ClassificationInterpretation.from_learner(learn)\n",
    "\n",
    "losses,idxs = interp.top_losses()\n",
    "\n",
    "len(data.valid_ds)==len(losses)==len(idxs)"
   ]
  },
  {
   "cell_type": "code",
   "execution_count": 34,
   "metadata": {},
   "outputs": [
    {
     "data": {
      "image/png": "[encoded data removed]",
      "text/plain": [
       "<Figure size 700x2100 with 1 Axes>"
      ]
     },
     "metadata": {
      "needs_background": "light"
     },
     "output_type": "display_data"
    }
   ],
   "source": [
    "interp.plot_confusion_matrix(figsize=(10,30), dpi=70)"
   ]
  }
 ],
 "metadata": {
  "kernelspec": {
   "display_name": "Python 3",
   "language": "python",
   "name": "python3"
  },
  "language_info": {
   "codemirror_mode": {
    "name": "ipython",
    "version": 3
   },
   "file_extension": ".py",
   "mimetype": "text/x-python",
   "name": "python",
   "nbconvert_exporter": "python",
   "pygments_lexer": "ipython3",
   "version": "3.7.4"
  }
 },
 "nbformat": 4,
 "nbformat_minor": 2
}
